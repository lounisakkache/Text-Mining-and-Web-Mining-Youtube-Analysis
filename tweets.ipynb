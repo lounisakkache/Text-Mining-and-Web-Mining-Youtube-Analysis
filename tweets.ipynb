{
 "cells": [
  {
   "cell_type": "markdown",
   "metadata": {},
   "source": [
    "Import necessary libraries "
   ]
  },
  {
   "cell_type": "code",
   "execution_count": 1,
   "metadata": {},
   "outputs": [],
   "source": [
    "from apiclient.discovery import build\n",
    "from flask import request\n",
    "import pandas as pd\n",
    "import requests\n",
    "import json\n",
    "from pprint import pprint as pp \n",
    "import nltk\n",
    "import matplotlib.pyplot as plt\n",
    "import numpy as np\n",
    "import matplotlib.dates as mdates\n"
   ]
  },
  {
   "cell_type": "markdown",
   "metadata": {},
   "source": [
    "API_Key From Google Cloud Platform"
   ]
  },
  {
   "cell_type": "code",
   "execution_count": 2,
   "metadata": {},
   "outputs": [],
   "source": [
    "API_Key=\"Insert Your API_Key\"\n"
   ]
  },
  {
   "cell_type": "markdown",
   "metadata": {},
   "source": [
    "Build Youtube API"
   ]
  },
  {
   "cell_type": "code",
   "execution_count": 3,
   "metadata": {},
   "outputs": [],
   "source": [
    "youtube = build('youtube','v3',developerKey = API_Key)"
   ]
  },
  {
   "cell_type": "markdown",
   "metadata": {},
   "source": [
    "Calling the API Youtube V3 AND Search query "
   ]
  },
  {
   "cell_type": "code",
   "execution_count": 4,
   "metadata": {},
   "outputs": [],
   "source": [
    "Result={'Title':[],\"channelTitle\":[],\"videoId\":[],\"channelId\":[],'publishTime':[],'publishTime':[]}\n",
    "def getAllVideosId(token): \n",
    "    request = youtube.search().list(q='canceling twitter privileges ',\n",
    "                                    part='snippet',type='video',\n",
    "                                    maxResults=100,\n",
    "                                    relevanceLanguage='en',\n",
    "                                    pageToken=token,\n",
    "                                    publishedAfter='2022-11-15T00:00:00Z',\n",
    "                                    regionCode=\"US\")\n",
    "    res = request.execute()\n",
    "    print(res) \n",
    "    Result['Title']         =   Result['Title']+[w['snippet']['title'] for w in res['items']]\n",
    "    Result['channelTitle']  =   Result['channelTitle']+[w['snippet']['channelTitle'] for w in res['items']]\n",
    "    Result['videoId']       =   Result['videoId']+[w['id']['videoId'] for w in res['items']]\n",
    "    Result['channelId']     =   Result['channelId']+[w['snippet']['channelId'] for w in res['items']]\n",
    "    Result['publishTime']   =   Result['publishTime']+[w['snippet']['publishTime'] for w in res['items']]\n",
    "\n",
    "    for item in res['items']:\n",
    "        if \"nextPageToken\" in res: \n",
    "            return getAllVideosId(res['nextPageToken'])\n",
    "    \n",
    "    return Result"
   ]
  },
  {
   "cell_type": "markdown",
   "metadata": {},
   "source": [
    "Calling to the function getAllVideosId"
   ]
  },
  {
   "cell_type": "code",
   "execution_count": null,
   "metadata": {},
   "outputs": [],
   "source": [
    "Collection_video=getAllVideosId('')"
   ]
  },
  {
   "cell_type": "markdown",
   "metadata": {},
   "source": [
    "Save Data [title video,videoId,channelTitle,channelId,publishTime] into DataFrame"
   ]
  },
  {
   "cell_type": "code",
   "execution_count": 6,
   "metadata": {},
   "outputs": [],
   "source": [
    "\n",
    "Result=pd.DataFrame(Collection_video).set_index('Title')\n",
    "Result.to_csv(\"./DataVideo.csv\")"
   ]
  },
  {
   "cell_type": "markdown",
   "metadata": {},
   "source": [
    "Import VideoId From Data.csv To collect comments From Youtube"
   ]
  },
  {
   "cell_type": "code",
   "execution_count": 3,
   "metadata": {},
   "outputs": [],
   "source": [
    "VideoDet = pd.read_csv(r'./DataVideo.csv')\n",
    "VideoDet = VideoDet.set_index('Title')"
   ]
  },
  {
   "cell_type": "markdown",
   "metadata": {},
   "source": [
    "Recuperate all column of videoId From DataVideo.csv"
   ]
  },
  {
   "cell_type": "code",
   "execution_count": 4,
   "metadata": {},
   "outputs": [
    {
     "name": "stdout",
     "output_type": "stream",
     "text": [
      "300\n"
     ]
    }
   ],
   "source": [
    "VideosId=[w for w in VideoDet[\"videoId\"]]\n",
    "pp(len(VideosId))"
   ]
  },
  {
   "cell_type": "markdown",
   "metadata": {},
   "source": [
    "Dictionary For organize Data"
   ]
  },
  {
   "cell_type": "code",
   "execution_count": 9,
   "metadata": {},
   "outputs": [],
   "source": [
    "Result={'id_Comment':[],\"Comment\":[],\"authorChannelUrl\":[],'authorChannelId':[],\n",
    "        'authorDisplayName':[],'likeCount':[],\"publishedAt\":[]\n",
    "        }   \n",
    "AllComment={'id_Comment':[],\"Comment\":[],\"authorChannelUrl\":[],'authorChannelId':[],\n",
    "        'authorDisplayName':[],'likeCount':[],\"publishedAt\":[]\n",
    "        } "
   ]
  },
  {
   "cell_type": "markdown",
   "metadata": {},
   "source": [
    "Calling the API Youtube V3 AND collect comments of Videos "
   ]
  },
  {
   "cell_type": "code",
   "execution_count": 6,
   "metadata": {},
   "outputs": [],
   "source": [
    "\n",
    "def getAllTopLevelComment(token,VId): \n",
    "    request = youtube.commentThreads().list(part='snippet',\n",
    "                                            videoId=VId,\n",
    "                                            textFormat='plainText',\n",
    "                                            order=\"relevance\",\n",
    "                                            maxResults=100,\n",
    "                                            pageToken=token)\n",
    "    res = request.execute()\n",
    "    \n",
    "    Result['id_Comment']        = Result['id_Comment']+[w['snippet']['topLevelComment']['id'] for w in res['items']]\n",
    "    Result['Comment']           = Result['Comment']+[w['snippet']['topLevelComment']['snippet']['textOriginal'] for w in res['items']]\n",
    "    Result['authorChannelUrl']  = Result['authorChannelUrl']+[w['snippet']['topLevelComment']['snippet']['authorChannelUrl'] for w in res['items']]\n",
    "    Result['authorChannelId']   = Result['authorChannelId']+[w['snippet']['topLevelComment']['snippet']['authorChannelId']['value'] for w in res['items']]\n",
    "    Result['authorDisplayName'] = Result['authorDisplayName']+[w['snippet']['topLevelComment']['snippet']['authorDisplayName'] for w in res['items']]\n",
    "    Result['likeCount']         = Result['likeCount']+[w['snippet']['topLevelComment']['snippet']['likeCount'] for w in res['items']]\n",
    "    Result['publishedAt']       = Result['publishedAt']+[w['snippet']['topLevelComment']['snippet']['publishedAt'] for w in res['items']]\n",
    "\n",
    "    for item in res['items']:\n",
    "        if \"nextPageToken\" in res: \n",
    "            return getAllTopLevelComment(res['nextPageToken'],VId)\n",
    "    \n",
    "    return Result"
   ]
  },
  {
   "cell_type": "markdown",
   "metadata": {},
   "source": [
    "This for recuperate all comment in for each video in DataVideo.csv"
   ]
  },
  {
   "cell_type": "code",
   "execution_count": null,
   "metadata": {},
   "outputs": [],
   "source": [
    "for VideoId in  VideosId :\n",
    "    Resu=getAllTopLevelComment('',VideoId)\n",
    "    AllComment['id_Comment']=AllComment['id_Comment']+Resu['id_Comment']\n",
    "    AllComment['Comment']=AllComment['Comment']+Resu['Comment']\n",
    "    AllComment['authorChannelUrl']=AllComment['authorChannelUrl']+Resu['authorChannelUrl']\n",
    "    AllComment['authorChannelId']=AllComment['authorChannelId']+Resu['authorChannelId']\n",
    "    AllComment['authorDisplayName']=AllComment['authorDisplayName']+Resu['authorDisplayName']\n",
    "    AllComment['likeCount']=AllComment['likeCount']+Resu['likeCount']\n",
    "    AllComment['publishedAt']=AllComment['publishedAt']+Resu['publishedAt']\n"
   ]
  },
  {
   "cell_type": "markdown",
   "metadata": {},
   "source": [
    "Save all collected comments into DataComments.csv"
   ]
  },
  {
   "cell_type": "code",
   "execution_count": null,
   "metadata": {},
   "outputs": [],
   "source": [
    "Result2=pd.DataFrame(AllComment).set_index('id_Comment')\n",
    "Result2.to_csv(\"./DataComments.csv\")\n"
   ]
  },
  {
   "cell_type": "markdown",
   "metadata": {},
   "source": [
    "Read DataComment From CSVFile"
   ]
  },
  {
   "cell_type": "code",
   "execution_count": 2,
   "metadata": {},
   "outputs": [],
   "source": [
    "DataComment = pd.read_csv(r'./DataComments.csv')\n",
    "DataComment = DataComment.set_index('id_Comment')"
   ]
  },
  {
   "cell_type": "markdown",
   "metadata": {},
   "source": [
    "Filtering Data"
   ]
  },
  {
   "cell_type": "code",
   "execution_count": 3,
   "metadata": {},
   "outputs": [],
   "source": [
    "KeyWordsTopic=[\"Elon Musk's\",\"Twitter\",\"rejoined\",\"joined\",\"Elon\",\"musk\",\"subscribe\",\"money\",\"tweet\",\"followers\",\"account\",\"deactivate\",\"password\",\n",
    "                \"social\", \"media\"]"
   ]
  },
  {
   "cell_type": "markdown",
   "metadata": {},
   "source": [
    "Import positive And Negative words"
   ]
  },
  {
   "cell_type": "code",
   "execution_count": 4,
   "metadata": {},
   "outputs": [],
   "source": [
    "positive_words=[(w.strip()) for w in open(\"./opinion-lexicon-English/positive-words.txt\", \"r\")]\n",
    "negative_words=[(w.strip()) for w in open(\"./opinion-lexicon-English/negative-words.txt\", \"r\")]\n"
   ]
  },
  {
   "cell_type": "markdown",
   "metadata": {},
   "source": [
    "NormalizeText with regularExpression"
   ]
  },
  {
   "cell_type": "code",
   "execution_count": 5,
   "metadata": {},
   "outputs": [],
   "source": [
    "# import regex\n",
    "import re\n",
    " \n",
    "# import nltk for stopwords\n",
    "from nltk.corpus import stopwords\n",
    "stop_words = set(stopwords.words('english'))\n",
    "\n",
    "def NormlizeComment(Comment):\n",
    "    # convert to lower case\n",
    "    lower_string = Comment.lower()\n",
    "    # remove numbers\n",
    "    no_number_string = re.sub(r'\\d+','',lower_string)\n",
    "    # add space after punctuation\n",
    "    no_punc_string = re.sub(r'[^\\w\\s]','', no_number_string)\n",
    "    # remove white spaces\n",
    "    no_wspace_string = no_punc_string.strip()\n",
    "    # no_wspace_string\n",
    "    # convert string to list of words\n",
    "    lst_string = [no_wspace_string][0].split() \n",
    "    # remove stopwords\n",
    "    no_stpwords_string=\"\"\n",
    "    for i in lst_string:\n",
    "        if not i in stop_words:\n",
    "            no_stpwords_string += i+' '     \n",
    "    # removing last space\n",
    "    no_stpwords_string = no_stpwords_string[:-1]\n",
    " \n",
    "    return no_stpwords_string\n"
   ]
  },
  {
   "cell_type": "markdown",
   "metadata": {},
   "source": [
    "Positive AND Negative words to string for using in RegularExpression"
   ]
  },
  {
   "cell_type": "code",
   "execution_count": 30,
   "metadata": {},
   "outputs": [],
   "source": [
    "PW = '|'.join(map(str, positive_words))\n",
    "NW = '|'.join(map(str, negative_words))\n",
    "KeyWT='|'.join(map(str, KeyWordsTopic))\n"
   ]
  },
  {
   "cell_type": "markdown",
   "metadata": {},
   "source": [
    "Function For return Positive And Negativ words For each comment Using Regexp"
   ]
  },
  {
   "cell_type": "code",
   "execution_count": 33,
   "metadata": {},
   "outputs": [],
   "source": [
    "def extract_PN_Words(comment,PW,NW):\n",
    "    r = re.compile(r\"PW\", flags=re.I | re.X)\n",
    "    Positive=re.findall(PW,comment)\n",
    "    r = re.compile(r\"NW\", flags=re.I | re.X)\n",
    "    Negative=re.findall(NW,comment)\n",
    "    return Positive,Negative"
   ]
  },
  {
   "cell_type": "markdown",
   "metadata": {},
   "source": [
    "verify Existing words Topic"
   ]
  },
  {
   "cell_type": "code",
   "execution_count": 38,
   "metadata": {},
   "outputs": [],
   "source": [
    "def existing_KWT(comment,KWT):\n",
    "     r = re.compile(r\"KWT\", flags=re.I | re.X)\n",
    "     arr=re.findall(KWT,comment)\n",
    "     if (len(arr)==0):\n",
    "        return False\n",
    "     else: \n",
    "        return True               \n"
   ]
  },
  {
   "cell_type": "markdown",
   "metadata": {},
   "source": [
    "Initialize Dictionary For Orgnize Data statistiques"
   ]
  },
  {
   "cell_type": "code",
   "execution_count": 9,
   "metadata": {},
   "outputs": [],
   "source": [
    "CommentsDetails={\"Comments\":[],\"Positive_Words\":[],\"length_Positive_Words\":[],\"Negative_Words\":[],\"length_Negative_Words\":[],\"DatePublish\":[],\"class\":[]}"
   ]
  },
  {
   "cell_type": "code",
   "execution_count": 10,
   "metadata": {},
   "outputs": [
    {
     "name": "stdout",
     "output_type": "stream",
     "text": [
      "216306\n",
      "216306\n"
     ]
    }
   ],
   "source": [
    "print(len(DataComment['Comment']))\n",
    "print(len(DataComment['Comment']))"
   ]
  },
  {
   "cell_type": "markdown",
   "metadata": {},
   "source": [
    "Filter Founded Comment in youtube"
   ]
  },
  {
   "cell_type": "code",
   "execution_count": 41,
   "metadata": {},
   "outputs": [],
   "source": [
    "\n",
    "# CommentsDetails['DatePublish']=DataComment['publishedAt']\n",
    "for item,row in DataComment.iterrows():\n",
    "        if (existing_KWT(row[\"Comment\"],KeyWT)):\n",
    "            pos,neg=extract_PN_Words(NormlizeComment(row[\"Comment\"]),PW,NW)\n",
    "            CommentsDetails['DatePublish'].append(row[\"publishedAt\"])\n",
    "            CommentsDetails['Comments'].append(row[\"Comment\"])\n",
    "            CommentsDetails['Positive_Words'].append(pos)\n",
    "            CommentsDetails['length_Positive_Words'].append(len(pos))\n",
    "            CommentsDetails['Negative_Words'].append(neg)\n",
    "            CommentsDetails['length_Negative_Words'].append(len(neg))  \n",
    "            if(len(neg)>len(pos)) :\n",
    "                CommentsDetails['class'].append(\"negative\")   \n",
    "            else:\n",
    "                CommentsDetails['class'].append(\"Positive\")   "
   ]
  },
  {
   "cell_type": "markdown",
   "metadata": {},
   "source": [
    "Save Data into file StatistiquesPN.csv"
   ]
  },
  {
   "cell_type": "code",
   "execution_count": 43,
   "metadata": {},
   "outputs": [
    {
     "name": "stdout",
     "output_type": "stream",
     "text": [
      "15595\n"
     ]
    }
   ],
   "source": [
    "Result3=pd.DataFrame(CommentsDetails).set_index('Comments')\n",
    "Result3.to_csv(\"./StatistiquesPN.csv\")\n",
    "print(len(CommentsDetails['Comments']))"
   ]
  },
  {
   "cell_type": "markdown",
   "metadata": {},
   "source": [
    "StatistiquesPN.csv"
   ]
  },
  {
   "cell_type": "code",
   "execution_count": 44,
   "metadata": {},
   "outputs": [],
   "source": [
    "Statistique = pd.read_csv(r'./StatistiquesPN.csv')\n",
    "Statistique = Statistique.set_index('Comments')\n",
    "Statistique = Statistique.sort_values(by=['DatePublish'])"
   ]
  },
  {
   "cell_type": "code",
   "execution_count": 45,
   "metadata": {},
   "outputs": [],
   "source": [
    "i=0\n",
    "for data in Statistique['DatePublish']:\n",
    "    Statistique['DatePublish'][i]=data.split('T')[0]\n",
    "    i=i+1"
   ]
  },
  {
   "cell_type": "code",
   "execution_count": 46,
   "metadata": {},
   "outputs": [
    {
     "name": "stdout",
     "output_type": "stream",
     "text": [
      "15595\n"
     ]
    }
   ],
   "source": [
    "pp(len(Statistique['DatePublish']))"
   ]
  },
  {
   "cell_type": "code",
   "execution_count": 47,
   "metadata": {},
   "outputs": [
    {
     "data": {
      "image/png": "[encoded data removed]",
      "text/plain": [
       "<Figure size 640x480 with 1 Axes>"
      ]
     },
     "metadata": {},
     "output_type": "display_data"
    }
   ],
   "source": [
    "date_time = Statistique['DatePublish']\n",
    "date_time = pd.to_datetime(date_time)\n",
    "data = Statistique['length_Positive_Words']\n",
    "data2 = Statistique['length_Negative_Words']\n",
    "\n",
    "fig, ax = plt.subplots()\n",
    "ax.plot(date_time,data, label=\"Positive\")\n",
    "ax.plot(date_time,data2, label=\"Negative\")\n",
    "ax.legend()\n",
    "\n",
    "plt.gcf().autofmt_xdate()\n",
    "plt.show()\n"
   ]
  },
  {
   "cell_type": "code",
   "execution_count": 48,
   "metadata": {},
   "outputs": [],
   "source": [
    "len(Statistique['class'])\n",
    "positiveClass=[]\n",
    "negativeClass=[]\n",
    "for item in range(len(Statistique['class'])):\n",
    "    if 'Positive' in Statistique['class'][item]:\n",
    "        positiveClass.append({'class':Statistique['length_Positive_Words'][item],'Date':Statistique['DatePublish'][item]})\n",
    "    else:\n",
    "        negativeClass.append({'class':Statistique['length_Negative_Words'][item],'Date':Statistique['DatePublish'][item]})"
   ]
  },
  {
   "cell_type": "markdown",
   "metadata": {},
   "source": [
    "Positive Plot"
   ]
  },
  {
   "cell_type": "code",
   "execution_count": 49,
   "metadata": {},
   "outputs": [
    {
     "data": {
      "image/png": "[encoded data removed]",
      "text/plain": [
       "<Figure size 640x480 with 1 Axes>"
      ]
     },
     "metadata": {},
     "output_type": "display_data"
    }
   ],
   "source": [
    "date_time = [w['Date'] for w in positiveClass]\n",
    "# date_time = pd.to_datetime(date_time)\n",
    "data = [w['class'] for w in positiveClass]\n",
    "plt.bar(date_time,data)\n",
    "plt.title(\"positive Class\")\n",
    "plt.gcf().autofmt_xdate()\n",
    "plt.show()"
   ]
  },
  {
   "cell_type": "markdown",
   "metadata": {},
   "source": [
    "NegativeClassPlot"
   ]
  },
  {
   "cell_type": "code",
   "execution_count": 50,
   "metadata": {},
   "outputs": [
    {
     "data": {
      "image/png": "[encoded data removed]",
      "text/plain": [
       "<Figure size 640x480 with 1 Axes>"
      ]
     },
     "metadata": {},
     "output_type": "display_data"
    }
   ],
   "source": [
    "date_time = [w['Date'] for w in negativeClass]\n",
    "# date_time = pd.to_datetime(date_time)\n",
    "data = [w['class'] for w in negativeClass]\n",
    "plt.bar(date_time,data)\n",
    "plt.title(\"negative Class\")\n",
    "\n",
    "plt.gcf().autofmt_xdate()\n",
    "plt.show()"
   ]
  },
  {
   "cell_type": "code",
   "execution_count": 54,
   "metadata": {},
   "outputs": [
    {
     "name": "stdout",
     "output_type": "stream",
     "text": [
      "negative opinion\n"
     ]
    }
   ],
   "source": [
    "# canceling twitter privileges     query\n",
    "if (len(negativeClass)>len(positiveClass)):\n",
    "    print(\"negative opinion\")\n",
    "else:\n",
    "    print(\"positive opinion\")"
   ]
  }
 ],
 "metadata": {
  "kernelspec": {
   "display_name": "Python 3.8.8 ('base')",
   "language": "python",
   "name": "python3"
  },
  "language_info": {
   "codemirror_mode": {
    "name": "ipython",
    "version": 3
   },
   "file_extension": ".py",
   "mimetype": "text/x-python",
   "name": "python",
   "nbconvert_exporter": "python",
   "pygments_lexer": "ipython3",
   "version": "3.8.8"
  },
  "orig_nbformat": 4,
  "vscode": {
   "interpreter": {
    "hash": "4a4f9661d358cc0b73dc52b7e77fcea78093582475f872525d2a64373504874b"
   }
  }
 },
 "nbformat": 4,
 "nbformat_minor": 2
}
